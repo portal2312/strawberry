{
 "cells": [
  {
   "cell_type": "markdown",
   "metadata": {},
   "source": [
    "# [Pydantic support](https://strawberry.rocks/docs/integrations/pydantic)\n",
    "\n",
    "`strawberry.experimental.pydantic.type` decorator 사용하기.\n"
   ]
  },
  {
   "cell_type": "code",
   "execution_count": 58,
   "metadata": {},
   "outputs": [],
   "source": [
    "import strawberry\n",
    "\n",
    "from datetime import datetime\n",
    "from typing import List, Optional\n",
    "from pydantic import BaseModel\n",
    "\n",
    "\n",
    "class User(BaseModel):\n",
    "    id: int\n",
    "    name: str\n",
    "    signup_ts: Optional[datetime] = None\n",
    "    friends: List[int] = []\n",
    "\n",
    "\n",
    "@strawberry.experimental.pydantic.type(model=User)\n",
    "class UserType:\n",
    "    id: strawberry.auto\n",
    "    name: strawberry.auto\n",
    "    friends: strawberry.auto"
   ]
  },
  {
   "cell_type": "markdown",
   "metadata": {},
   "source": [
    "`strawberry.experimental.pydantic.type` decorator 는 `User` 과 감싸진 `User` 가 포함한 dataclass style 의 `strawberry.auto` 를 type annotation 로 한 fields 를 접근합니다.\n",
    "\n",
    "모든 필드를 적용하려면, `strawberry.experimental.pydantic.type` decorator 안에 `all_fields=True` 를 합니다.\n",
    "\n",
    "> [!WARN] 의도하지 않은 field 접근을 주의하십시오.\n"
   ]
  },
  {
   "cell_type": "code",
   "execution_count": 59,
   "metadata": {},
   "outputs": [],
   "source": [
    "import strawberry\n",
    "\n",
    "from datetime import datetime\n",
    "from typing import List, Optional\n",
    "from pydantic import BaseModel\n",
    "\n",
    "\n",
    "class User(BaseModel):\n",
    "    id: int\n",
    "    name: str\n",
    "    signup_ts: Optional[datetime] = None\n",
    "    friends: List[int] = []\n",
    "\n",
    "\n",
    "@strawberry.experimental.pydantic.type(model=User, all_fields=True)\n",
    "class UserType: ..."
   ]
  },
  {
   "cell_type": "markdown",
   "metadata": {},
   "source": [
    "## Input types\n",
    "\n",
    "`strawberry.experimental.pydantic.input` decorator 를 사용하세요:\n"
   ]
  },
  {
   "cell_type": "code",
   "execution_count": 5,
   "metadata": {},
   "outputs": [],
   "source": [
    "import strawberry\n",
    "\n",
    "\n",
    "@strawberry.experimental.pydantic.input(model=User)\n",
    "class UserInput:\n",
    "    id: strawberry.auto\n",
    "    name: strawberry.auto\n",
    "    friends: strawberry.auto"
   ]
  },
  {
   "cell_type": "markdown",
   "metadata": {},
   "source": [
    "## Interface types\n",
    "\n",
    "`strawberry.experimental.pydantic.interface` decorator 를 사용하세요:\n"
   ]
  },
  {
   "cell_type": "code",
   "execution_count": 7,
   "metadata": {},
   "outputs": [],
   "source": [
    "import strawberry\n",
    "from pydantic import BaseModel\n",
    "from typing import List\n",
    "\n",
    "\n",
    "# pydantic types\n",
    "class User(BaseModel):\n",
    "    id: int\n",
    "    name: str\n",
    "\n",
    "\n",
    "class NormalUser(User):\n",
    "    friends: List[int] = []\n",
    "\n",
    "\n",
    "class AdminUser(User):\n",
    "    role: int\n",
    "\n",
    "\n",
    "# strawberry types\n",
    "@strawberry.experimental.pydantic.interface(model=User)\n",
    "class UserType:\n",
    "    id: strawberry.auto\n",
    "    name: strawberry.auto\n",
    "\n",
    "\n",
    "@strawberry.experimental.pydantic.type(model=NormalUser)\n",
    "class NormalUserType(UserType):  # note the base class\n",
    "    friends: strawberry.auto\n",
    "\n",
    "\n",
    "@strawberry.experimental.pydantic.type(model=AdminUser)\n",
    "class AdminUserType(UserType):\n",
    "    role: strawberry.auto"
   ]
  },
  {
   "cell_type": "markdown",
   "metadata": {},
   "source": [
    "## Error Types\n"
   ]
  },
  {
   "cell_type": "code",
   "execution_count": 26,
   "metadata": {},
   "outputs": [
    {
     "name": "stdout",
     "output_type": "stream",
     "text": [
      "{'type': 'int_parsing', 'loc': ('id',), 'msg': 'Input should be a valid integer, unable to parse string as an integer', 'input': 'a', 'url': 'https://errors.pydantic.dev/2.8/v/int_parsing'}\n",
      "{'type': 'string_too_short', 'loc': ('name',), 'msg': 'String should have at least 2 characters', 'input': 'n', 'ctx': {'min_length': 2}, 'url': 'https://errors.pydantic.dev/2.8/v/string_too_short'}\n",
      "UserError(id=2 validation errors for User\n",
      "id\n",
      "  Input should be a valid integer, unable to parse string as an integer [type=int_parsing, input_value='a', input_type=str]\n",
      "    For further information visit https://errors.pydantic.dev/2.8/v/int_parsing\n",
      "name\n",
      "  String should have at least 2 characters [type=string_too_short, input_value='n', input_type=str]\n",
      "    For further information visit https://errors.pydantic.dev/2.8/v/string_too_short, name=None, friends=None)\n"
     ]
    }
   ],
   "source": [
    "from pydantic import BaseModel, ValidationError, constr\n",
    "import strawberry\n",
    "\n",
    "\n",
    "class User(BaseModel):\n",
    "    id: int\n",
    "    name: constr(min_length=2)\n",
    "    signup_ts: Optional[datetime] = None\n",
    "    friends: List[int] = []\n",
    "\n",
    "\n",
    "@strawberry.experimental.pydantic.error_type(model=User)\n",
    "class UserError:\n",
    "    id: strawberry.auto\n",
    "    name: strawberry.auto\n",
    "    friends: strawberry.auto\n",
    "\n",
    "\n",
    "try:\n",
    "    User(id=\"a\", name=\"n\")\n",
    "except ValidationError as e:\n",
    "    for error in e.errors():\n",
    "        print(error)\n",
    "    user_error = UserError(e)\n",
    "    print(user_error)"
   ]
  },
  {
   "cell_type": "markdown",
   "metadata": {},
   "source": [
    "## Extending types\n",
    "\n",
    "Pydantic model 에 정의되지 않은 필드를 Strawberry 문법을 사용하여 `UserType` 에 `age` 를 추가 가능합니다:\n"
   ]
  },
  {
   "cell_type": "code",
   "execution_count": 29,
   "metadata": {},
   "outputs": [],
   "source": [
    "import strawberry\n",
    "from pydantic import BaseModel\n",
    "\n",
    "\n",
    "class User(BaseModel):\n",
    "    id: int\n",
    "    name: str\n",
    "\n",
    "\n",
    "@strawberry.experimental.pydantic.type(model=User)\n",
    "class UserType:\n",
    "    id: strawberry.auto\n",
    "    name: strawberry.auto\n",
    "    age: int"
   ]
  },
  {
   "cell_type": "markdown",
   "metadata": {},
   "source": [
    "## Converting types\n",
    "\n",
    "생성된 유형은 어떠한 단순한 검증도 실행하지 않습니다.\n",
    "이는 유형을 확장할 때 혼란을 방지하고 필요한 곳에서 정확하게 유효성 검사를 실행할 수 있도록 하기 위한 것입니다.\n",
    "\n",
    "Pydantic instance 를 Strawberry instance 로 변환하려면 Strawberry 유형에서 `from_pydantic` 을 사용할 수 있습니다:\n"
   ]
  },
  {
   "cell_type": "code",
   "execution_count": 35,
   "metadata": {},
   "outputs": [],
   "source": [
    "import strawberry\n",
    "from pydantic import BaseModel\n",
    "\n",
    "\n",
    "class User(BaseModel):\n",
    "    id: int\n",
    "    name: str\n",
    "\n",
    "\n",
    "@strawberry.experimental.pydantic.type(model=User)\n",
    "class UserType:\n",
    "    id: strawberry.auto\n",
    "    name: strawberry.auto\n",
    "\n",
    "\n",
    "instance = User(id=\"123\", name=\"Jake\")\n",
    "data = UserType.from_pydantic(instance)"
   ]
  },
  {
   "cell_type": "markdown",
   "metadata": {},
   "source": [
    "Strawberry 유형에 Pydantic 모델에 정의되지 않은 추가 필드가 포함된 경우 `from_pydantic` 의 `extra` 매개변수를 사용하여 해당 필드에 할당할 값을 지정해야 합니다:\n"
   ]
  },
  {
   "cell_type": "code",
   "execution_count": 39,
   "metadata": {},
   "outputs": [],
   "source": [
    "import strawberry\n",
    "from pydantic import BaseModel\n",
    "\n",
    "\n",
    "class User(BaseModel):\n",
    "    id: int\n",
    "    name: str\n",
    "\n",
    "\n",
    "@strawberry.experimental.pydantic.type(model=User)\n",
    "class UserType:\n",
    "    id: strawberry.auto\n",
    "    name: strawberry.auto\n",
    "    age: int  # extra age\n",
    "\n",
    "\n",
    "instance = User(id=\"123\", name=\"Jake\")\n",
    "data = UserType.from_pydantic(instance, extra={\"age\": 10})"
   ]
  },
  {
   "cell_type": "markdown",
   "metadata": {},
   "source": [
    "데이터 사전 구조는 데이터 구조를 따릅니다.\n",
    "`User` 목록이 있는 경우 데이터가 누락된 `User` 목록인 추가 항목(이 경우 `age`)을 보내야 합니다.\n",
    "\n",
    "Strawberry instance 를 Pydantic instance 로 변환하고 유효성 검사를 촉발하려면 Strawberry instance 에서 `to_pydantic`을 사용할 수 있습니다:\n"
   ]
  },
  {
   "cell_type": "code",
   "execution_count": null,
   "metadata": {},
   "outputs": [],
   "source": [
    "import strawberry\n",
    "from pydantic import BaseModel\n",
    "\n",
    "\n",
    "class User(BaseModel):\n",
    "    id: int\n",
    "    name: str\n",
    "\n",
    "\n",
    "@strawberry.experimental.pydantic.input(model=User)\n",
    "class UserInput:\n",
    "    id: strawberry.auto\n",
    "    name: strawberry.auto\n",
    "\n",
    "\n",
    "input_data = UserInput(id=\"abc\", name=\"Jake\")\n",
    "try:\n",
    "    instance = input_data.to_pydantic()\n",
    "except ValidationError as e:\n",
    "    print(e)"
   ]
  },
  {
   "cell_type": "markdown",
   "metadata": {},
   "source": [
    "```python\n",
    "1 validation error for User\n",
    "id\n",
    "  Input should be a valid integer, unable to parse string as an integer [type=int_parsing, input_value='abc', input_type=str]\n",
    "    For further information visit https://errors.pydantic.dev/2.8/v/int_parsing\n",
    "```\n"
   ]
  },
  {
   "cell_type": "markdown",
   "metadata": {},
   "source": [
    "## Constrained types\n",
    "\n",
    "[`Pydantic constrained types`](https://pydantic-docs.helpmanual.io/usage/types/#constrained-types) 를 지원합니다.\n",
    "graphql 유형에는 제약 조건이 적용되지 않습니다.\n",
    "따라서 유효성 검사가 시행되도록 항상 pydantic 유형으로 작업하는 것이 좋습니다.\n"
   ]
  },
  {
   "cell_type": "code",
   "execution_count": 47,
   "metadata": {},
   "outputs": [],
   "source": [
    "from pydantic import BaseModel, conlist\n",
    "import strawberry\n",
    "\n",
    "\n",
    "class Example(BaseModel):\n",
    "    friends: conlist(str, min_length=1)\n",
    "\n",
    "\n",
    "@strawberry.experimental.pydantic.input(model=Example, all_fields=True)\n",
    "class ExampleGQL: ...\n",
    "\n",
    "\n",
    "@strawberry.type\n",
    "class Query:\n",
    "    @strawberry.field()\n",
    "    def test(self, example: ExampleGQL) -> None:\n",
    "        # friends may be an empty list here\n",
    "        print(example.friends)\n",
    "        # calling to_pydantic() runs the validation and raises\n",
    "        # an error if friends is empty\n",
    "        print(example.to_pydantic().friends)\n",
    "\n",
    "\n",
    "schema = strawberry.Schema(query=Query)"
   ]
  },
  {
   "cell_type": "markdown",
   "metadata": {},
   "source": [
    "## Classes with `__get_validators__`\n",
    "\n",
    "아마 Pydantic BaseModels 에 `__get_validators__` 로직과 함게 사용자 정의 type 이 정의되어 있을 것입니다. Schema class 안에 `scalar_overrides` 인자에 scalar type 과 관계 추가가 필요할 것입니다:\n"
   ]
  },
  {
   "cell_type": "code",
   "execution_count": 48,
   "metadata": {},
   "outputs": [],
   "source": [
    "import strawberry\n",
    "from pydantic import BaseModel\n",
    "\n",
    "\n",
    "class MyCustomType:\n",
    "    @classmethod\n",
    "    def __get_validators__(cls):\n",
    "        yield cls.validate\n",
    "\n",
    "    @classmethod\n",
    "    def validate(cls, v):\n",
    "        return MyCustomType()\n",
    "\n",
    "\n",
    "class Example(BaseModel):\n",
    "    custom: MyCustomType\n",
    "\n",
    "\n",
    "@strawberry.experimental.pydantic.type(model=Example, all_fields=True)\n",
    "class ExampleGQL: ...\n",
    "\n",
    "\n",
    "MyScalarType = strawberry.scalar(\n",
    "    MyCustomType,\n",
    "    # or another function describing how to represent MyCustomType in the response\n",
    "    serialize=str,\n",
    "    parse_value=lambda v: MyCustomType(),\n",
    ")\n",
    "\n",
    "\n",
    "@strawberry.type\n",
    "class Query:\n",
    "    @strawberry.field()\n",
    "    def test(self) -> ExampleGQL:\n",
    "        return Example(custom=MyCustomType())\n",
    "\n",
    "\n",
    "# Tells strawberry to convert MyCustomType into MyScalarType\n",
    "schema = strawberry.Schema(query=Query, scalar_overrides={MyCustomType: MyScalarType})"
   ]
  },
  {
   "cell_type": "markdown",
   "metadata": {},
   "source": [
    "## Custom Conversion Logic\n",
    "\n",
    "때로는 라이브러리에 제공된 로직을 사용하여 Pydantic 모델을 Strawberry로 변환하고 싶지 않을 수도 있습니다. 때때로 Pydantic의 유형은 GraphQL에서 표현할 수 없거나(예: 스칼라 값의 결합) 데이터가 스키마에 노출되기 전에 구조적 변경이 필요합니다. 이러한 경우 변환 논리를 보다 직접적으로 제어하는 ​​데 사용할 수 있는 두 가지 방법이 있습니다.\n"
   ]
  },
  {
   "cell_type": "markdown",
   "metadata": {},
   "source": [
    "### 필드 유형에 대한 Strawberry 모델의 다른 유형 주석 사용\n",
    "\n",
    "`strawberry.auto` 를 사용하여 동등한 유형을 선택하는 대신 필드 유형에 대한 Strawberry 모델의 다른 유형 주석을 사용할 수 있습니다.  \n",
    "값을 사용자 정의 scalar 유형으로 변환하거나 기본 유형 간 변환과 같은 작업을 수행할 수 있습니다.  \n",
    "Strawberry는 필드 값을 입력으로 사용하여 새 유형 주석의 생성자를 호출하므로 이는 생성자를 통해 변환이 가능한 경우에만 작동합니다:\n"
   ]
  },
  {
   "cell_type": "code",
   "execution_count": null,
   "metadata": {},
   "outputs": [],
   "source": [
    "import base64\n",
    "import strawberry\n",
    "from pydantic import BaseModel\n",
    "from typing import Union, NewType\n",
    "\n",
    "\n",
    "class User(BaseModel):\n",
    "    id: Union[int, str]  # Not representable in GraphQL\n",
    "    hash: bytes\n",
    "\n",
    "\n",
    "Base64 = strawberry.scalar(\n",
    "    NewType(\"Base64\", bytes),\n",
    "    serialize=lambda v: base64.b64encode(v).decode(\"utf-8\"),\n",
    "    parse_value=lambda v: base64.b64decode(v.encode(\"utf-8\")),\n",
    ")\n",
    "\n",
    "\n",
    "@strawberry.experimental.pydantic.type(model=User)\n",
    "class UserType:\n",
    "    id: str  # Serialize int values to strings\n",
    "    hash: Base64  # Use a custom scalar to serialize values\n",
    "\n",
    "\n",
    "@strawberry.type\n",
    "class Query:\n",
    "    @strawberry.field\n",
    "    def test() -> UserType:\n",
    "        return UserType.from_pydantic(User(id=123, hash=b\"abcd\"))\n",
    "\n",
    "\n",
    "schema = strawberry.Schema(query=Query)\n",
    "\n",
    "print(schema.execute_sync(\"query { test { id, hash } }\").data)\n",
    "# {\"test\": {\"id\": \"123\", \"hash\": \"YWJjZA==\"}}"
   ]
  },
  {
   "cell_type": "markdown",
   "metadata": {},
   "source": [
    "### `from_pydantic` 및 `to_pydantic` 의 사용자 정의 구현\n",
    "\n",
    "변환 논리를 수정하는 보다 포괄적인 다른 방법은 `from_pydantic` 및 `to_pydantic` 의 사용자 정의 구현을 제공하는 것입니다. 이를 통해 변환 프로세스를 완전히 제어할 수 있으며 Strawberry에 내장된 변환 규칙을 완전히 무시하는 동시에 새로운 유형을 Pydantic 변환 유형으로 등록하여 다른 모델에서 참조할 수 있습니다.\n",
    "\n",
    "이는 기본 Pydantic 모델을 변경하지 않고 GraphQL 표준과 매우 다른 구조를 표현해야 할 때 유용합니다. 예를 들어 `dict` 필드를 사용하여 일부 반구조화된 콘텐츠를 저장하는 사용 사례가 있는데, 이는 GraphQL의 엄격한 유형 시스템에서 표현하기 어렵습니다.\n"
   ]
  },
  {
   "cell_type": "code",
   "execution_count": null,
   "metadata": {},
   "outputs": [],
   "source": [
    "import enum\n",
    "import dataclasses\n",
    "import strawberry\n",
    "from pydantic import BaseModel\n",
    "from typing import Any, Dict, Optional\n",
    "\n",
    "\n",
    "class ContentType(enum.Enum):\n",
    "    NAME = \"name\"\n",
    "    DESCRIPTION = \"description\"\n",
    "\n",
    "\n",
    "class User(BaseModel):\n",
    "    id: str\n",
    "    content: Dict[ContentType, str]\n",
    "\n",
    "\n",
    "@strawberry.experimental.pydantic.type(model=User)\n",
    "class UserType:\n",
    "    id: strawberry.auto\n",
    "    # Flatten the content dict into specific fields in the query\n",
    "    content_name: Optional[str] = None\n",
    "    content_description: Optional[str] = None\n",
    "\n",
    "    @staticmethod\n",
    "    def from_pydantic(instance: User, extra: Dict[str, Any] = None) -> \"UserType\":\n",
    "        data = instance.dict()\n",
    "        content = data.pop(\"content\")\n",
    "        data.update({f\"content_{k.value}\": v for k, v in content.items()})\n",
    "        return UserType(**data)\n",
    "\n",
    "    def to_pydantic(self) -> User:\n",
    "        data = dataclasses.asdict(self)\n",
    "\n",
    "        # Pull out the content_* fields into a dict\n",
    "        content = {}\n",
    "        for enum_member in ContentType:\n",
    "            key = f\"content_{enum_member.value}\"\n",
    "            if data.get(key) is not None:\n",
    "                content[enum_member.value] = data.pop(key)\n",
    "        return User(content=content, **data)\n",
    "\n",
    "\n",
    "user = User(id=\"abc\", content={ContentType.NAME: \"Bob\"})\n",
    "print(UserType.from_pydantic(user))\n",
    "user_type = UserType(id=\"abc\", content_name=\"Bob\", content_description=None)\n",
    "print(user_type.to_pydantic())"
   ]
  },
  {
   "cell_type": "markdown",
   "metadata": {},
   "source": [
    "```python\n",
    "UserType(content_name='Bob', content_description=None, id='abc')\n",
    "id='abc' content={<ContentType.NAME: 'name'>: 'Bob'}\n",
    "```\n"
   ]
  }
 ],
 "metadata": {
  "kernelspec": {
   "display_name": ".venv",
   "language": "python",
   "name": "python3"
  },
  "language_info": {
   "codemirror_mode": {
    "name": "ipython",
    "version": 3
   },
   "file_extension": ".py",
   "mimetype": "text/x-python",
   "name": "python",
   "nbconvert_exporter": "python",
   "pygments_lexer": "ipython3",
   "version": "3.12.3"
  }
 },
 "nbformat": 4,
 "nbformat_minor": 2
}
