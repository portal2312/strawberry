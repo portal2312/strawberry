{
 "cells": [
  {
   "cell_type": "markdown",
   "metadata": {},
   "source": [
    "# [Fields](https://docs.pydantic.dev/latest/concepts/fields/)\n",
    "\n",
    "`Field` function 은 모델 필드에 메타데이터를 사용자 정의하고 추가하는 데 사용됩니다.\n"
   ]
  },
  {
   "cell_type": "markdown",
   "metadata": {
    "vscode": {
     "languageId": "plaintext"
    }
   },
   "source": [
    "## Default values\n",
    "\n",
    "`default`: 기본 값 정의하기.\n"
   ]
  },
  {
   "cell_type": "code",
   "execution_count": null,
   "metadata": {},
   "outputs": [],
   "source": [
    "from pydantic import BaseModel, Field\n",
    "\n",
    "\n",
    "class User(BaseModel):\n",
    "    name: str = Field(default=\"John Doe\")\n",
    "\n",
    "\n",
    "user = User()\n",
    "assert user.name == \"John Doe\""
   ]
  },
  {
   "cell_type": "markdown",
   "metadata": {},
   "source": [
    "`default_factory`: 기본 값을 생성하기 위해 호출될 콜러블을 정의할 수도 있습니다.\n"
   ]
  },
  {
   "cell_type": "code",
   "execution_count": null,
   "metadata": {},
   "outputs": [],
   "source": [
    "from uuid import uuid4\n",
    "\n",
    "from pydantic import BaseModel, Field\n",
    "\n",
    "\n",
    "class User(BaseModel):\n",
    "    id: str = Field(default_factory=lambda: uuid4().hex)"
   ]
  },
  {
   "cell_type": "markdown",
   "metadata": {},
   "source": [
    "> [!INFO] `default` 및 `default_factory` 매개변수는 상호 배타적입니다.\n",
    "\n",
    "> [!NOTE] `typing.Optional` 을 사용한다고 해서 필드의 기본 값이 `None` 이라는 의미는 아닙니다.\n"
   ]
  },
  {
   "cell_type": "markdown",
   "metadata": {},
   "source": [
    "## Using Annotated\n",
    "\n",
    "`Field` 기능은 `Annotated` 와 함께 사용할 수도 있습니다.\n"
   ]
  },
  {
   "cell_type": "code",
   "execution_count": null,
   "metadata": {},
   "outputs": [],
   "source": [
    "from uuid import uuid4\n",
    "\n",
    "from typing_extensions import Annotated\n",
    "\n",
    "from pydantic import BaseModel, Field\n",
    "\n",
    "\n",
    "class User(BaseModel):\n",
    "    id: Annotated[str, Field(default_factory=lambda: uuid4().hex)]"
   ]
  },
  {
   "cell_type": "markdown",
   "metadata": {},
   "source": [
    "> [!NOTE]  \n",
    "> 기본 값은 `Annotated` 외부에서 할당된 값으로 설정하거나 `Annotated` 내부의 `Field.default_factory`를 사용하여 설정할 수 있습니다.  \n",
    "> **`Field.default` 인수는 `Annotated` 내에서 지원되지 않습니다.**\n"
   ]
  },
  {
   "cell_type": "markdown",
   "metadata": {},
   "source": [
    "## Field aliases\n",
    "\n",
    "유효성 검사 및 직렬화를 위해 필드에 대한 별칭을 정의할 수 있습니다.\n",
    "\n",
    "- `Field(..., alias='foo')`: Validation and Serialization\n",
    "- `Field(..., validation_alias='foo')`: Validation\n",
    "- `Field(..., serialization_alias='foo')`: Serialization\n"
   ]
  },
  {
   "cell_type": "code",
   "execution_count": null,
   "metadata": {},
   "outputs": [],
   "source": [
    "from pydantic import BaseModel, Field\n",
    "\n",
    "\n",
    "class User(BaseModel):\n",
    "    name: str = Field(..., alias=\"username\")\n",
    "\n",
    "\n",
    "user = User(username=\"johndoe\")\n",
    "assert user.name == \"johndoe\"\n",
    "assert user.model_dump(by_alias=True) == {\"username\": \"johndoe\"}"
   ]
  },
  {
   "cell_type": "code",
   "execution_count": null,
   "metadata": {},
   "outputs": [],
   "source": [
    "from pydantic import BaseModel, Field\n",
    "\n",
    "\n",
    "class User(BaseModel):\n",
    "    name: str = Field(..., validation_alias=\"username\")\n",
    "\n",
    "\n",
    "user = User(username=\"johndoe\")\n",
    "assert user.name == \"johndoe\"\n",
    "assert user.model_dump(by_alias=True) == {\"name\": \"johndoe\"}"
   ]
  },
  {
   "cell_type": "code",
   "execution_count": null,
   "metadata": {},
   "outputs": [],
   "source": [
    "from pydantic import BaseModel, Field\n",
    "\n",
    "\n",
    "class User(BaseModel):\n",
    "    name: str = Field(..., serialization_alias=\"username\")\n",
    "\n",
    "\n",
    "user = User(name=\"johndoe\")\n",
    "assert user.name == \"johndoe\"\n",
    "assert user.model_dump(by_alias=True) == {\"username\": \"johndoe\"}"
   ]
  },
  {
   "cell_type": "markdown",
   "metadata": {},
   "source": [
    "> [!NOTE] **Alias precedence and priority**  \n",
    "> `validation_alias` > `alias` > `serialization_alias` 우선 순위입니다.  \n",
    "> [`Model Config`](https://docs.pydantic.dev/latest/api/config/#pydantic.config.ConfigDict.alias_generator) 의 `alias_generator` 사용 시, 우선 순위를 정의할 수 있습니다.\n",
    "\n",
    "> **VSCode and Pyright users**  \n",
    "> `populate_by_name` 사용 시, 자세한 내용은 공식에서 참조하기.\n",
    "\n",
    "자세한 내용은 [Alias](https://docs.pydantic.dev/latest/concepts/alias/) 참조하기.\n"
   ]
  },
  {
   "cell_type": "markdown",
   "metadata": {},
   "source": [
    "## Numeric Constraints\n",
    "\n",
    "- `gt`: greater than\n",
    "- `lt`: less than\n",
    "- `ge`: greater than or equal to\n",
    "- `le`: less than or equal to\n",
    "- `multiple_of`: - 배수\n",
    "- `allow_inf_nan`: allow 'inf', '-inf', 'nan' values\n"
   ]
  },
  {
   "cell_type": "code",
   "execution_count": null,
   "metadata": {},
   "outputs": [],
   "source": [
    "from pydantic import BaseModel, Field\n",
    "\n",
    "\n",
    "class Foo(BaseModel):\n",
    "    positive: int = Field(gt=0)\n",
    "    non_negative: int = Field(ge=0)\n",
    "    negative: int = Field(lt=0)\n",
    "    non_positive: int = Field(le=0)\n",
    "    even: int = Field(multiple_of=2)\n",
    "    love_for_pydantic: float = Field(allow_inf_nan=True)\n",
    "\n",
    "\n",
    "foo = Foo(\n",
    "    positive=1,\n",
    "    non_negative=0,\n",
    "    negative=-1,\n",
    "    non_positive=0,\n",
    "    even=2,\n",
    "    love_for_pydantic=float(\"inf\"),\n",
    ")\n",
    "print(foo)\n",
    "foo.model_json_schema()"
   ]
  },
  {
   "cell_type": "markdown",
   "metadata": {},
   "source": [
    "```py\n",
    "positive=1 non_negative=0 negative=-1 non_positive=0 even=2 love_for_pydantic=inf\n",
    "```\n"
   ]
  },
  {
   "cell_type": "markdown",
   "metadata": {},
   "source": [
    "> [!INFO] JSON Schema\n",
    ">\n",
    "> JSON Schema:\n",
    ">\n",
    "> - `gt` and `lt`: `exclusiveMinimum` and `exclusiveMaximum`.\n",
    "> - `ge` and `le`: `minimum` and `maximum`.\n",
    "> - `multiple_of` `multipleOf`.\n",
    "\n",
    "> [!WARN] Constraints on compound types  \n",
    "> 오류를 피하기 위해 `Annotated` 사용하기:\n"
   ]
  },
  {
   "cell_type": "code",
   "execution_count": null,
   "metadata": {},
   "outputs": [],
   "source": [
    "from typing import Optional\n",
    "\n",
    "from typing_extensions import Annotated\n",
    "\n",
    "from pydantic import BaseModel, Field\n",
    "\n",
    "\n",
    "class Foo(BaseModel):\n",
    "    positive: Optional[Annotated[int, Field(gt=0)]]\n",
    "    # Can error in some cases, not recommended:\n",
    "    non_negative: Optional[int] = Field(ge=0)"
   ]
  },
  {
   "cell_type": "markdown",
   "metadata": {},
   "source": [
    "## String Constraints\n",
    "\n",
    "문자열을 제한하는 데 사용할 수 있는 필드가 있습니다:\n",
    "\n",
    "- `min_length`: 문자열의 최소 길이입니다.\n",
    "- `max_length`: 문자열의 최대 길이입니다.\n",
    "- `pattern`: 문자열이 일치해야 하는 정규식입니다.\n"
   ]
  },
  {
   "cell_type": "code",
   "execution_count": null,
   "metadata": {},
   "outputs": [],
   "source": [
    "from pydantic import BaseModel, Field\n",
    "\n",
    "\n",
    "class Foo(BaseModel):\n",
    "    short: str = Field(min_length=3)\n",
    "    long: str = Field(max_length=10)\n",
    "    regex: str = Field(pattern=r\"^\\d*$\")\n",
    "\n",
    "\n",
    "Foo(short=\"abc\", long=\"0123456789\", regex=\"123\")"
   ]
  },
  {
   "cell_type": "markdown",
   "metadata": {},
   "source": [
    "```py\n",
    "Foo(short='abc', long='0123456789', regex='123')\n",
    "```\n"
   ]
  },
  {
   "cell_type": "markdown",
   "metadata": {},
   "source": [
    "## Decimal Constraints\n",
    "\n",
    "- `max_digits`: 십진수 내 최대 자릿수입니다. 소수점 앞의 0이나 후행 소수점 0은 포함되지 않습니다.\n",
    "- `decimal_places`: 허용되는 최대 소수 자릿수입니다. 후행 소수점 0은 포함되지 않습니다.\n"
   ]
  },
  {
   "cell_type": "code",
   "execution_count": null,
   "metadata": {},
   "outputs": [],
   "source": [
    "from decimal import Decimal\n",
    "\n",
    "from pydantic import BaseModel, Field\n",
    "\n",
    "\n",
    "class Foo(BaseModel):\n",
    "    precise: Decimal = Field(max_digits=5, decimal_places=2)\n",
    "\n",
    "\n",
    "Foo(precise=Decimal(\"123.45\"))"
   ]
  },
  {
   "cell_type": "markdown",
   "metadata": {},
   "source": [
    "```py\n",
    "Foo(precise=Decimal('123.45'))\n",
    "```\n"
   ]
  },
  {
   "cell_type": "markdown",
   "metadata": {},
   "source": [
    "## Dataclass Constraints\n",
    "\n",
    "Pass.\n"
   ]
  },
  {
   "cell_type": "markdown",
   "metadata": {},
   "source": [
    "## Validate Default Values\n",
    "\n",
    "`pydantic.Field.validate_default`: 기본값을 검증해야 하는지 여부를 제어하기.\n"
   ]
  },
  {
   "cell_type": "code",
   "execution_count": null,
   "metadata": {},
   "outputs": [],
   "source": [
    "from pydantic import BaseModel, Field, ValidationError\n",
    "\n",
    "\n",
    "class User(BaseModel):\n",
    "    age: int = Field(default=\"twelve\", validate_default=True)\n",
    "\n",
    "\n",
    "try:\n",
    "    user = User()\n",
    "except ValidationError as e:\n",
    "    print(e)"
   ]
  },
  {
   "cell_type": "markdown",
   "metadata": {},
   "source": [
    "```py\n",
    "1 validation error for User\n",
    "age\n",
    "  Input should be a valid integer, unable to parse string as an integer [type=int_parsing, input_value='twelve', input_type=str]\n",
    "    For further information visit https://errors.pydantic.dev/2.8/v/int_parsing\n",
    "```\n"
   ]
  },
  {
   "cell_type": "markdown",
   "metadata": {},
   "source": [
    "## Field Representation\n",
    "\n",
    "`pydantic.Field.repr`:\n"
   ]
  },
  {
   "cell_type": "code",
   "execution_count": null,
   "metadata": {},
   "outputs": [],
   "source": [
    "from pydantic import BaseModel, Field\n",
    "\n",
    "\n",
    "class User(BaseModel):\n",
    "    age: int = Field(repr=False)\n",
    "    name: str = Field(repr=True)\n",
    "\n",
    "\n",
    "User(name=\"John\", age=42)"
   ]
  },
  {
   "cell_type": "markdown",
   "metadata": {},
   "source": [
    "```py\n",
    "User(name='John')\n",
    "```\n"
   ]
  },
  {
   "cell_type": "markdown",
   "metadata": {},
   "source": [
    "## Discriminator\n",
    "\n",
    "매개변수 `discriminator` 는 공용체에서 서로 다른 모델을 구별하는 데 사용되는 필드를 제어하는 ​​데 사용할 수 있습니다.  \n",
    "필드 이름이나 `Discriminator` 인스턴스 중 하나를 사용합니다.  \n",
    "`Discriminator` 접근 방식은 판별자 필드가 `Union` 의 모든 모델에 대해 동일하지 않을 때 유용할 수 있습니다.\n"
   ]
  },
  {
   "cell_type": "code",
   "execution_count": 2,
   "metadata": {},
   "outputs": [
    {
     "name": "stdout",
     "output_type": "stream",
     "text": [
      "Model(pet=Cat(pet_type='cat', age=12))\n"
     ]
    }
   ],
   "source": [
    "from typing import Literal\n",
    "\n",
    "from pydantic import BaseModel, Field\n",
    "\n",
    "\n",
    "class Cat(BaseModel):\n",
    "    pet_type: Literal[\"cat\"]\n",
    "    age: int\n",
    "\n",
    "\n",
    "class Dog(BaseModel):\n",
    "    pet_type: Literal[\"dog\"]\n",
    "    age: int\n",
    "\n",
    "\n",
    "class Model(BaseModel):\n",
    "    pet: Cat | Dog = Field(discriminator=\"pet_type\")\n",
    "\n",
    "\n",
    "cat = Model.model_validate({\"pet\": {\"pet_type\": \"cat\", \"age\": 12}})\n",
    "print(repr(cat))\n",
    "assert isinstance(cat.pet, Cat) is True"
   ]
  },
  {
   "cell_type": "markdown",
   "metadata": {},
   "source": [
    "다음 예에서는 `Discriminator` 인스턴스와 함께 `discriminator` 키워드 인수를 사용하는 방법을 보여줍니다:\n"
   ]
  },
  {
   "cell_type": "code",
   "execution_count": 7,
   "metadata": {},
   "outputs": [],
   "source": [
    "from typing import Literal, Union\n",
    "\n",
    "from typing_extensions import Annotated\n",
    "\n",
    "from pydantic import BaseModel, Discriminator, Field, Tag\n",
    "\n",
    "\n",
    "class Cat(BaseModel):\n",
    "    pet_type: Literal[\"cat\"]  # NOTE: pet_type or pet_kind.\n",
    "    age: int\n",
    "\n",
    "\n",
    "class Dog(BaseModel):\n",
    "    pet_kind: Literal[\"dog\"]  # NOTE: pet_type or pet_kind.\n",
    "    age: int\n",
    "\n",
    "\n",
    "def pet_discriminator(v):\n",
    "    if isinstance(v, dict):\n",
    "        return v.get(\"pet_type\", v.get(\"pet_kind\"))\n",
    "    return getattr(v, \"pet_type\", getattr(v, \"pet_kind\", None))\n",
    "\n",
    "\n",
    "class Model(BaseModel):\n",
    "    pet: Union[Annotated[Cat, Tag(\"cat\")], Annotated[Dog, Tag(\"dog\")]] = Field(\n",
    "        discriminator=Discriminator(pet_discriminator)\n",
    "    )\n",
    "\n",
    "\n",
    "cat = Model.model_validate({\"pet\": {\"pet_type\": \"cat\", \"age\": 12}})\n",
    "assert isinstance(cat.pet, Cat) is True\n",
    "dog = Model.model_validate({\"pet\": {\"pet_kind\": \"dog\", \"age\": 12}})\n",
    "assert isinstance(dog.pet, Dog) is True"
   ]
  },
  {
   "cell_type": "markdown",
   "metadata": {},
   "source": [
    "또한 `Annotated`를 활용하여 구별된 공용체를 정의할 수도 있습니다. 자세한 내용은 [Discriminate Unions](https://docs.pydantic.dev/latest/concepts/unions/#discriminated-unions) 문서를 참조하세요.\n"
   ]
  },
  {
   "cell_type": "markdown",
   "metadata": {},
   "source": [
    "## Strict Mode\n"
   ]
  },
  {
   "cell_type": "code",
   "execution_count": 19,
   "metadata": {},
   "outputs": [],
   "source": [
    "from pydantic import BaseModel, Field\n",
    "\n",
    "\n",
    "class User(BaseModel):\n",
    "    name: str = Field(strict=True)\n",
    "    age: int = Field(strict=False)\n",
    "    is_staff: bool = Field(strict=False)\n",
    "\n",
    "\n",
    "user = User(name=\"John\", age=\"42\", is_staff=1)\n",
    "assert isinstance(user.age, int) is True\n",
    "assert isinstance(user.is_staff, int) is True"
   ]
  },
  {
   "cell_type": "markdown",
   "metadata": {},
   "source": [
    "자세한 내용은 [Strict Mode](https://docs.pydantic.dev/latest/concepts/strict_mode/) 을 참조하세요.\n",
    "\n",
    "Pydantic 이 엄격 모드와 완화 모드 모두에서 데이터를 변환하는 방법에 대한 자세한 내용은 [변환 표](https://docs.pydantic.dev/latest/concepts/conversion_table/)를 참조하세요.\n"
   ]
  },
  {
   "cell_type": "markdown",
   "metadata": {},
   "source": [
    "## Immutability\n",
    "\n",
    "불변하기 위해, `pydantic.Field` 의 `frozen` 매개변수 사용합니다:\n"
   ]
  },
  {
   "cell_type": "code",
   "execution_count": null,
   "metadata": {},
   "outputs": [],
   "source": [
    "from pydantic import BaseModel, Field, ValidationError\n",
    "\n",
    "\n",
    "class User(BaseModel):\n",
    "    name: str = Field(frozen=True)\n",
    "    age: int\n",
    "\n",
    "\n",
    "user = User(name=\"John\", age=42)\n",
    "\n",
    "try:\n",
    "    user.name = \"Jane\"\n",
    "except ValidationError as e:\n",
    "    print(e)"
   ]
  },
  {
   "cell_type": "markdown",
   "metadata": {},
   "source": [
    "```py\n",
    "1 validation error for User\n",
    "name\n",
    "  Field is frozen [type=frozen_field, input_value='Jane', input_type=str]\n",
    "    For further information visit https://errors.pydantic.dev/2.8/v/frozen_field\n",
    "```\n"
   ]
  },
  {
   "cell_type": "markdown",
   "metadata": {},
   "source": [
    "자세한 내용은 [frozen dataclass documentation](https://docs.python.org/3/library/dataclasses.html#frozen-instances) 참조하세요.\n"
   ]
  },
  {
   "cell_type": "markdown",
   "metadata": {},
   "source": [
    "## Exclude\n",
    "\n",
    "The `exclude` parameter:\n"
   ]
  },
  {
   "cell_type": "code",
   "execution_count": 24,
   "metadata": {},
   "outputs": [],
   "source": [
    "from pydantic import BaseModel, Field\n",
    "\n",
    "\n",
    "class User(BaseModel):\n",
    "    name: str\n",
    "    age: int = Field(exclude=True)\n",
    "\n",
    "\n",
    "user = User(name=\"John\", age=42)\n",
    "assert user.model_dump() == {\"name\": \"John\"}"
   ]
  },
  {
   "cell_type": "markdown",
   "metadata": {},
   "source": [
    "자세한 내용은 [Serialization](https://docs.pydantic.dev/latest/concepts/serialization/#model-and-field-level-include-and-exclude) 을 참조하세요.\n"
   ]
  },
  {
   "cell_type": "markdown",
   "metadata": {},
   "source": [
    "## Deprecated fields\n"
   ]
  },
  {
   "cell_type": "markdown",
   "metadata": {},
   "source": [
    "### deprecated as a string\n"
   ]
  },
  {
   "cell_type": "markdown",
   "metadata": {},
   "source": [
    "### deprecated via the warnings.deprecated decorator\n"
   ]
  },
  {
   "cell_type": "markdown",
   "metadata": {},
   "source": [
    "### deprecated as a boolean\n"
   ]
  },
  {
   "cell_type": "markdown",
   "metadata": {},
   "source": [
    "## Customizing JSON Schema\n"
   ]
  },
  {
   "cell_type": "markdown",
   "metadata": {},
   "source": [
    "## The computed_field decorator\n",
    "\n",
    "모델이나 데이터 클래스를 직렬화할 때 `computed_field` decorator 를 사용하여 `property` 또는 `cached_property` 속성을 포함할 수 있습니다.  \n",
    "이는 다른 필드에서 계산되는 필드 또는 계산 비용이 많이 드는(그래서 캐시되는) 필드에 유용할 수 있습니다.\n",
    "\n",
    "`@deprecated` 도 사용 가능합니다.\n"
   ]
  },
  {
   "cell_type": "code",
   "execution_count": 35,
   "metadata": {},
   "outputs": [],
   "source": [
    "from typing_extensions import deprecated\n",
    "\n",
    "from pydantic import BaseModel, computed_field\n",
    "\n",
    "\n",
    "class Box(BaseModel):\n",
    "    width: float\n",
    "    height: float\n",
    "    depth: float\n",
    "\n",
    "    @computed_field\n",
    "    def volume(self) -> float:\n",
    "        return self.width * self.height * self.depth\n",
    "\n",
    "    @computed_field\n",
    "    @deprecated(\"'weight' is deprecated\")\n",
    "    def weight(self) -> float:\n",
    "        return 0.0\n",
    "\n",
    "\n",
    "box = Box(width=1, height=2, depth=3)\n",
    "assert box.model_dump()[\"volume\"] == 6.0"
   ]
  }
 ],
 "metadata": {
  "kernelspec": {
   "display_name": ".venv",
   "language": "python",
   "name": "python3"
  },
  "language_info": {
   "codemirror_mode": {
    "name": "ipython",
    "version": 3
   },
   "file_extension": ".py",
   "mimetype": "text/x-python",
   "name": "python",
   "nbconvert_exporter": "python",
   "pygments_lexer": "ipython3",
   "version": "3.12.3"
  }
 },
 "nbformat": 4,
 "nbformat_minor": 2
}
