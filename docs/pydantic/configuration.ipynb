{
 "cells": [
  {
   "cell_type": "markdown",
   "metadata": {},
   "source": [
    "# [Configuration](https://docs.pydantic.dev/latest/api/config)\n",
    "\n",
    "Pydantic models 에 대한 설정입니다.\n"
   ]
  },
  {
   "cell_type": "markdown",
   "metadata": {},
   "source": [
    "## ConfigDict\n",
    "\n",
    "Bases: `TypedDict`\n",
    "\n",
    "Pydantic 동작을 구성하기 위한 TypedDict 입니다.\n"
   ]
  },
  {
   "cell_type": "markdown",
   "metadata": {},
   "source": [
    "### [validate_assignment](https://docs.pydantic.dev/latest/api/config/#pydantic.config.ConfigDict.validate_assignment) `instance-attribute`\n",
    "\n",
    "```python\n",
    "validate_assignment: bool\n",
    "```\n",
    "\n",
    "모델이 변경될 때 데이터의 유효성을 검사할지 여부입니다. 기본값은 `False` 입니다.\n",
    "\n",
    "Pydantic의 기본 동작은 모델이 생성될 때 데이터를 검증하는 것입니다.\n",
    "\n",
    "모델이 생성된 후 사용자가 데이터를 변경하는 경우 모델이 재검증되지 않습니다:\n"
   ]
  },
  {
   "cell_type": "code",
   "execution_count": 27,
   "metadata": {},
   "outputs": [],
   "source": [
    "from pydantic import BaseModel\n",
    "\n",
    "\n",
    "class User(BaseModel):\n",
    "    name: str\n",
    "\n",
    "\n",
    "user = User(name=\"John Doe\")\n",
    "assert isinstance(user.name, str)\n",
    "\n",
    "user.name = 123\n",
    "assert isinstance(user.name, int)"
   ]
  },
  {
   "cell_type": "markdown",
   "metadata": {},
   "source": [
    "데이터가 변경될 때 모델을 재검증하려는 경우에는 `verify_location=True`를 사용할 수 있습니다:\n"
   ]
  },
  {
   "cell_type": "code",
   "execution_count": 32,
   "metadata": {},
   "outputs": [],
   "source": [
    "from pydantic import BaseModel, ValidationError\n",
    "\n",
    "\n",
    "class User(BaseModel, validate_assignment=True):\n",
    "    name: str\n",
    "\n",
    "\n",
    "user = User(name=\"John Doe\")\n",
    "assert isinstance(user.name, str)\n",
    "\n",
    "try:\n",
    "    user.name = 123\n",
    "except ValidationError as e:\n",
    "    for error in e.errors():\n",
    "        match error[\"type\"]:\n",
    "            case \"string_type\":\n",
    "                assert isinstance(error[\"input\"], str) is False\n",
    "            case _:\n",
    "                continue"
   ]
  },
  {
   "cell_type": "markdown",
   "metadata": {},
   "source": [
    "### [revalidate_instances](https://docs.pydantic.dev/latest/api/config/#pydantic.config.ConfigDict.revalidate_instances) `instance-attribute`\n",
    "\n",
    "```python\n",
    "revalidate_instances: Literal[\n",
    "    \"always\", \"never\", \"subclass-instances\"\n",
    "]\n",
    "```\n",
    "\n",
    "검증 중에 모델과 데이터 클래스를 재검증하는 시기와 방법. `\"never\"`, `\"always\"` 및 `\"subclass-instances\"`의 문자열 값을 허용합니다. 기본값은 `\"never\"` 입니다:\n",
    "\n",
    "- `\"never\"`: 검증 중에는 모델과 데이터 클래스를 재검증하지 않습니다.\n",
    "- `\"always\"`: 검증 중에 모델과 데이터 클래스를 재검증합니다.\n",
    "- `\"subclass-instances\"`: 인스턴스가 모델이나 데이터 클래스의 하위 클래스인 경우 유효성 검사 중에 모델과 데이터 클래스의 유효성을 다시 검사합니다.\n",
    "\n",
    "기본적으로 모델 및 데이터 클래스 인스턴스는 검증 중에 재검증되지 않습니다:\n"
   ]
  },
  {
   "cell_type": "code",
   "execution_count": 17,
   "metadata": {},
   "outputs": [],
   "source": [
    "from typing import List\n",
    "\n",
    "from pydantic import BaseModel\n",
    "\n",
    "\n",
    "class User(BaseModel, revalidate_instances=\"never\"):\n",
    "    hobbies: List[str]\n",
    "\n",
    "\n",
    "class SubUser(User):\n",
    "    sins: List[str]\n",
    "\n",
    "\n",
    "class Transaction(BaseModel):\n",
    "    user: User\n",
    "\n",
    "\n",
    "my_user = User(hobbies=[\"reading\"])\n",
    "t = Transaction(user=my_user)\n",
    "assert isinstance(t.user, User)\n",
    "assert isinstance(t.user.hobbies[0], str)\n",
    "\n",
    "my_user.hobbies = [1]\n",
    "t = Transaction(user=my_user)\n",
    "assert isinstance(t.user, User)\n",
    "assert isinstance(t.user.hobbies[0], str) is False\n",
    "\n",
    "my_sub_user = SubUser(hobbies=[\"scuba diving\"], sins=[\"lying\"])\n",
    "t = Transaction(user=my_sub_user)\n",
    "assert isinstance(t.user, User)\n",
    "assert hasattr(t.user, \"hobbies\")\n",
    "assert isinstance(t.user, SubUser)\n",
    "assert hasattr(t.user, \"sins\")"
   ]
  },
  {
   "cell_type": "markdown",
   "metadata": {},
   "source": [
    "검증 중에 인스턴스를 재검증하려면 모델 구성에서 `revalidate_instances` 를 `\"always\"`로 설정할 수 있습니다:\n"
   ]
  },
  {
   "cell_type": "code",
   "execution_count": 16,
   "metadata": {},
   "outputs": [],
   "source": [
    "from typing import List\n",
    "\n",
    "from pydantic import BaseModel, ValidationError\n",
    "\n",
    "\n",
    "class User(BaseModel, revalidate_instances=\"always\"):\n",
    "    hobbies: List[str]\n",
    "\n",
    "\n",
    "class SubUser(User):\n",
    "    sins: List[str]\n",
    "\n",
    "\n",
    "class Transaction(BaseModel):\n",
    "    user: User\n",
    "\n",
    "\n",
    "my_user = User(hobbies=[\"reading\"])\n",
    "t = Transaction(user=my_user)\n",
    "assert isinstance(t.user, User)\n",
    "assert isinstance(t.user.hobbies[0], str)\n",
    "\n",
    "my_user.hobbies = [1]\n",
    "try:\n",
    "    Transaction(user=my_user)\n",
    "except ValidationError as e:\n",
    "    for error in e.errors():\n",
    "        match error[\"type\"]:\n",
    "            case \"string_type\":\n",
    "                assert error[\"loc\"] == (\"user\", \"hobbies\", 0)\n",
    "                assert isinstance(error[\"input\"], str) is False\n",
    "            case _:\n",
    "                continue\n",
    "\n",
    "my_sub_user = SubUser(hobbies=[\"scuba diving\"], sins=[\"lying\"])\n",
    "t = Transaction(user=my_sub_user)\n",
    "assert isinstance(t.user, User)\n",
    "assert hasattr(t.user, \"hobbies\")\n",
    "assert isinstance(t.user, SubUser) is False\n",
    "assert hasattr(t.user, \"sins\") is False"
   ]
  },
  {
   "cell_type": "markdown",
   "metadata": {},
   "source": [
    "모델의 하위 클래스 인스턴스만 재검증하기 위해 `revalidate_instances` 를 `\"subclass-instances\"`로 설정하는 것도 가능합니다:\n"
   ]
  },
  {
   "cell_type": "code",
   "execution_count": 24,
   "metadata": {},
   "outputs": [],
   "source": [
    "from typing import List\n",
    "\n",
    "from pydantic import BaseModel\n",
    "\n",
    "\n",
    "class User(BaseModel, revalidate_instances=\"subclass-instances\"):\n",
    "    hobbies: List[str]\n",
    "\n",
    "\n",
    "class SubUser(User):\n",
    "    sins: List[str]\n",
    "\n",
    "\n",
    "class Transaction(BaseModel):\n",
    "    user: User\n",
    "\n",
    "\n",
    "my_user = User(hobbies=[\"reading\"])\n",
    "t = Transaction(user=my_user)\n",
    "assert isinstance(t.user, User)\n",
    "assert isinstance(t.user.hobbies[0], str)\n",
    "\n",
    "my_user.hobbies = [1]\n",
    "t = Transaction(user=my_user)\n",
    "assert isinstance(t.user, User)\n",
    "assert isinstance(t.user.hobbies[0], str) is False\n",
    "\n",
    "my_sub_user = SubUser(hobbies=[\"scuba diving\"], sins=[\"lying\"])\n",
    "t = Transaction(user=my_sub_user)\n",
    "assert isinstance(t.user, User)\n",
    "assert hasattr(t.user, \"hobbies\")\n",
    "assert isinstance(t.user, SubUser) is False\n",
    "assert hasattr(t.user, \"sins\") is False"
   ]
  }
 ],
 "metadata": {
  "kernelspec": {
   "display_name": ".venv",
   "language": "python",
   "name": "python3"
  },
  "language_info": {
   "codemirror_mode": {
    "name": "ipython",
    "version": 3
   },
   "file_extension": ".py",
   "mimetype": "text/x-python",
   "name": "python",
   "nbconvert_exporter": "python",
   "pygments_lexer": "ipython3",
   "version": "3.12.5"
  }
 },
 "nbformat": 4,
 "nbformat_minor": 2
}
