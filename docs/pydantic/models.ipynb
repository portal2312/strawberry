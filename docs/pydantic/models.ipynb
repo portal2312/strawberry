{
 "cells": [
  {
   "cell_type": "markdown",
   "metadata": {},
   "source": [
    "# [Models](https://docs.pydantic.dev/latest/concepts/models)\n"
   ]
  },
  {
   "cell_type": "markdown",
   "metadata": {},
   "source": [
    "## Basic model usage\n"
   ]
  },
  {
   "cell_type": "code",
   "execution_count": null,
   "metadata": {},
   "outputs": [],
   "source": [
    "from pydantic import BaseModel\n",
    "\n",
    "\n",
    "class User(BaseModel):\n",
    "    id: int\n",
    "    name: str = \"Jane Doe\"\n",
    "\n",
    "\n",
    "user = User(id=\"123\")\n",
    "assert user.id == 123\n",
    "# NOTE: The id field value override string to int.\n",
    "assert isinstance(user.id, int)\n",
    "# NOTE: Check the name field default value.\n",
    "assert user.name == \"Jane Doe\"\n",
    "# NOTE: The name field is not initialized.\n",
    "assert user.model_fields_set == {\"id\"}\n",
    "# NOTE: The using model_dump function.\n",
    "assert user.model_dump() == {\"id\": 123, \"name\": \"Jane Doe\"}"
   ]
  },
  {
   "cell_type": "markdown",
   "metadata": {},
   "source": [
    "### Model methods and properties\n"
   ]
  },
  {
   "cell_type": "markdown",
   "metadata": {},
   "source": [
    "#### model_validate\n"
   ]
  },
  {
   "cell_type": "code",
   "execution_count": null,
   "metadata": {},
   "outputs": [],
   "source": [
    "user = User.model_validate({\"id\": \"123\"})\n",
    "assert user.id == 123\n",
    "# NOTE: The id field value override string to int.\n",
    "assert isinstance(user.id, int)\n",
    "# NOTE: Check the name field default value.\n",
    "assert user.name == \"Jane Doe\"\n",
    "# NOTE: The name field is not initialized.\n",
    "assert user.model_fields_set == {\"id\"}\n",
    "# NOTE: The using model_dump function.\n",
    "assert user.model_dump() == {\"id\": 123, \"name\": \"Jane Doe\"}"
   ]
  },
  {
   "cell_type": "markdown",
   "metadata": {},
   "source": [
    "## Nested models\n"
   ]
  },
  {
   "cell_type": "code",
   "execution_count": null,
   "metadata": {},
   "outputs": [],
   "source": [
    "from typing import List, Optional\n",
    "\n",
    "from pydantic import BaseModel\n",
    "\n",
    "\n",
    "class Foo(BaseModel):\n",
    "    count: int\n",
    "    size: Optional[float] = None\n",
    "\n",
    "\n",
    "class Bar(BaseModel):\n",
    "    apple: str = \"x\"\n",
    "    banana: str = \"y\"\n",
    "\n",
    "\n",
    "class Spam(BaseModel):\n",
    "    foo: Foo\n",
    "    bars: List[Bar]\n",
    "\n",
    "\n",
    "m = Spam(foo={\"count\": 4}, bars=[{\"apple\": \"x1\"}, {\"apple\": \"x2\"}])\n",
    "print(m)\n",
    "print(m.model_dump())"
   ]
  },
  {
   "cell_type": "markdown",
   "metadata": {},
   "source": [
    "```py\n",
    "foo=Foo(count=4, size=None) bars=[Bar(apple='x1', banana='y'), Bar(apple='x2', banana='y')]\n",
    "{'foo': {'count': 4, 'size': None}, 'bars': [{'apple': 'x1', 'banana': 'y'}, {'apple': 'x2', 'banana': 'y'}]}\n",
    "```\n"
   ]
  },
  {
   "cell_type": "markdown",
   "metadata": {},
   "source": [
    "## Rebuild model schema\n",
    "\n",
    "모델 스키마는 `model_rebuild()`를 사용하여 다시 구축할 수 있습니다. 이는 **재귀적인 일반 모델**을 구축하는 데 유용합니다.\n"
   ]
  },
  {
   "cell_type": "code",
   "execution_count": null,
   "metadata": {},
   "outputs": [],
   "source": [
    "from pydantic import BaseModel, PydanticUserError\n",
    "\n",
    "\n",
    "class Foo(BaseModel):\n",
    "    x: \"Bar\"\n",
    "\n",
    "\n",
    "try:\n",
    "    Foo.model_json_schema()\n",
    "except PydanticUserError as e:\n",
    "    print(e)\n",
    "\n",
    "\n",
    "class Bar(BaseModel):\n",
    "    pass\n",
    "\n",
    "\n",
    "Foo.model_rebuild()\n",
    "print(Foo.model_json_schema())"
   ]
  },
  {
   "cell_type": "markdown",
   "metadata": {},
   "source": [
    "```py\n",
    "{'$defs': {'Bar': {'properties': {}, 'title': 'Bar', 'type': 'object'}}, 'properties': {'x': {'$ref': '#/$defs/Bar'}}, 'required': ['x'], 'title': 'Foo', 'type': 'object'}\n",
    "```\n"
   ]
  },
  {
   "cell_type": "markdown",
   "metadata": {},
   "source": [
    "## Arbitrary class instances\n",
    "\n",
    "To do this, set the config attribute `model_config['from_attributes'] = True`. See [`Model Config`](https://docs.pydantic.dev/latest/api/config/#pydantic.config.ConfigDict.from_attributes) and [`ConfigDict`](https://docs.pydantic.dev/latest/api/config/#pydantic.config.ConfigDict) for more information.\n"
   ]
  },
  {
   "cell_type": "markdown",
   "metadata": {},
   "source": [
    "### Reserved names\n",
    "\n",
    "`pydantic.Field` 의 `alias` 사용하기.\n",
    "\n",
    "`.model_dump(by_alias=True)` 사용하기.\n"
   ]
  },
  {
   "cell_type": "code",
   "execution_count": null,
   "metadata": {},
   "outputs": [],
   "source": [
    "import typing\n",
    "\n",
    "\n",
    "from pydantic import BaseModel, Field\n",
    "\n",
    "\n",
    "class MyModel(BaseModel):\n",
    "    metadata: typing.Dict[str, str] = Field(alias=\"metadata_\")\n",
    "\n",
    "\n",
    "# NOTE: The obj key field is Field.alias value.\n",
    "my_model = MyModel.model_validate({\"metadata_\": {\"fieldname\": \"value\"}})\n",
    "print(my_model.model_dump())\n",
    "print(my_model.model_dump(by_alias=True))"
   ]
  },
  {
   "cell_type": "markdown",
   "metadata": {},
   "source": [
    "```py\n",
    "{'metadata': {'key': 'value'}}\n",
    "{'metadata_': {'key': 'value'}}\n",
    "```\n"
   ]
  },
  {
   "cell_type": "markdown",
   "metadata": {},
   "source": [
    "### Nested attributes\n"
   ]
  },
  {
   "cell_type": "code",
   "execution_count": null,
   "metadata": {},
   "outputs": [],
   "source": [
    "from typing import List\n",
    "\n",
    "from pydantic import BaseModel, ConfigDict\n",
    "\n",
    "\n",
    "class PetCls:\n",
    "    def __init__(self, *, name: str, species: str):\n",
    "        self.name = name\n",
    "        self.species = species\n",
    "\n",
    "\n",
    "class PersonCls:\n",
    "    def __init__(self, *, name: str, age: float = None, pets: List[PetCls]):\n",
    "        self.name = name\n",
    "        self.age = age\n",
    "        self.pets = pets\n",
    "\n",
    "\n",
    "class Pet(BaseModel):\n",
    "    model_config = ConfigDict(from_attributes=True)\n",
    "\n",
    "    name: str\n",
    "    species: str\n",
    "\n",
    "\n",
    "class Person(BaseModel):\n",
    "    model_config = ConfigDict(from_attributes=True)\n",
    "\n",
    "    name: str\n",
    "    age: float = None\n",
    "    pets: List[Pet]\n",
    "\n",
    "\n",
    "bones = PetCls(name=\"Bones\", species=\"dog\")\n",
    "orion = PetCls(name=\"Orion\", species=\"cat\")\n",
    "anna = PersonCls(name=\"Anna\", age=20, pets=[bones, orion])\n",
    "anna_model = Person.model_validate(anna)\n",
    "print(anna_model)"
   ]
  },
  {
   "cell_type": "markdown",
   "metadata": {},
   "source": [
    "```py\n",
    "name='Anna' age=20.0 pets=[Pet(name='Bones', species='dog'), Pet(name='Orion', species='cat')]\n",
    "```\n"
   ]
  },
  {
   "cell_type": "markdown",
   "metadata": {},
   "source": [
    "## Error handling\n",
    "\n",
    "`pydantic.ValidationError` 사용하기.\n",
    "\n",
    "자세한 내용은 [Error Handling](https://docs.pydantic.dev/latest/errors/errors/) 참조하기.\n"
   ]
  },
  {
   "cell_type": "code",
   "execution_count": null,
   "metadata": {},
   "outputs": [],
   "source": [
    "from typing import List\n",
    "\n",
    "from pydantic import BaseModel, ValidationError\n",
    "\n",
    "\n",
    "class Model(BaseModel):\n",
    "    list_of_ints: List[int]\n",
    "    a_float: float\n",
    "\n",
    "\n",
    "data = dict(\n",
    "    list_of_ints=[\"1\", 2, \"bad\"],\n",
    "    a_float=\"not a float\",\n",
    ")\n",
    "\n",
    "try:\n",
    "    Model(**data)\n",
    "except ValidationError as e:\n",
    "    print(e)"
   ]
  },
  {
   "cell_type": "markdown",
   "metadata": {},
   "source": [
    "```py\n",
    "2 validation errors for Model\n",
    "list_of_ints.2\n",
    "  Input should be a valid integer, unable to parse string as an integer [type=int_parsing, input_value='bad', input_type=str]\n",
    "    For further information visit https://errors.pydantic.dev/2.8/v/int_parsing\n",
    "a_float\n",
    "  Input should be a valid number, unable to parse string as a number [type=float_parsing, input_value='not a float', input_type=str]\n",
    "    For further information visit https://errors.pydantic.dev/2.8/v/float_parsing\n",
    "```\n"
   ]
  },
  {
   "cell_type": "markdown",
   "metadata": {},
   "source": [
    "## Validating data\n",
    "\n",
    "Pydantic은 데이터 구문 분석을 위해 모델 클래스에 세 가지 방법을 제공합니다.\n",
    "\n",
    "- `model_validate()`: 이는 키워드 인수 대신 사전이나 객체를 취한다는 점을 제외하면 모델의 `__init__` 메서드와 매우 유사합니다.\n",
    "  전달된 객체의 유효성을 검사할 수 없거나 문제의 모델의 사전이나 인스턴스가 아닌 경우 `ValidationError`가 발생합니다.\n",
    "- `model_validate_json()`: 이는 제공된 데이터를 JSON 문자열 또는 바이트열 객체로 검증합니다.\n",
    "  수신 데이터가 JSON 페이로드 인 경우 일반적으로 데이터를 사전으로 수동으로 구문 분석하는 대신 더 빠른 것으로 간주됩니다.\n",
    "  문서의 JSON 섹션에서 [JSON](https://docs.pydantic.dev/latest/concepts/json/) 구문 분석에 대해 자세히 알아보세요.\n",
    "- `model_validate_strings()`: 이는 문자열 키와 값이 포함된 사전(중첩 가능)을 취하고 해당 문자열이 올바른 유형으로 강제 변환될 수 있도록 JSON 모드에서 데이터의 유효성을 검사합니다.\n"
   ]
  },
  {
   "cell_type": "code",
   "execution_count": null,
   "metadata": {},
   "outputs": [],
   "source": [
    "from datetime import datetime\n",
    "from typing import Optional\n",
    "\n",
    "from pydantic import BaseModel, ValidationError\n",
    "\n",
    "\n",
    "class User(BaseModel):\n",
    "    id: int\n",
    "    name: str = \"John Doe\"\n",
    "    signup_ts: Optional[datetime] = None\n",
    "\n",
    "\n",
    "m = User.model_validate({\"id\": 123, \"name\": \"James\"})\n",
    "print(m)\n",
    "# > id=123 name='James' signup_ts=None\n",
    "\n",
    "try:\n",
    "    User.model_validate([\"not\", \"a\", \"dict\"])\n",
    "except ValidationError as e:\n",
    "    print(e)\n",
    "    \"\"\"\n",
    "    1 validation error for User\n",
    "      Input should be a valid dictionary or instance of User [type=model_type, input_value=['not', 'a', 'dict'], input_type=list]\n",
    "    \"\"\"\n",
    "\n",
    "m = User.model_validate_json('{\"id\": 123, \"name\": \"James\"}')\n",
    "print(m)\n",
    "# > id=123 name='James' signup_ts=None\n",
    "\n",
    "try:\n",
    "    m = User.model_validate_json('{\"id\": 123, \"name\": 123}')\n",
    "except ValidationError as e:\n",
    "    print(e)\n",
    "    \"\"\"\n",
    "    1 validation error for User\n",
    "    name\n",
    "      Input should be a valid string [type=string_type, input_value=123, input_type=int]\n",
    "    \"\"\"\n",
    "\n",
    "try:\n",
    "    m = User.model_validate_json(\"invalid JSON\")\n",
    "except ValidationError as e:\n",
    "    print(e)\n",
    "    \"\"\"\n",
    "    1 validation error for User\n",
    "      Invalid JSON: expected value at line 1 column 1 [type=json_invalid, input_value='invalid JSON', input_type=str]\n",
    "    \"\"\"\n",
    "\n",
    "m = User.model_validate_strings({\"id\": \"123\", \"name\": \"James\"})\n",
    "print(m)\n",
    "# > id=123 name='James' signup_ts=None\n",
    "\n",
    "m = User.model_validate_strings(\n",
    "    {\"id\": \"123\", \"name\": \"James\", \"signup_ts\": \"2024-04-01T12:00:00\"}\n",
    ")\n",
    "print(m)\n",
    "# > id=123 name='James' signup_ts=datetime.datetime(2024, 4, 1, 12, 0)\n",
    "\n",
    "try:\n",
    "    m = User.model_validate_strings(\n",
    "        {\"id\": \"123\", \"name\": \"James\", \"signup_ts\": \"2024-04-01\"}, strict=True\n",
    "    )\n",
    "except ValidationError as e:\n",
    "    print(e)\n",
    "    \"\"\"\n",
    "    1 validation error for User\n",
    "    signup_ts\n",
    "      Input should be a valid datetime, invalid datetime separator, expected `T`, `t`, `_` or space [type=datetime_parsing, input_value='2024-04-01', input_type=str]\n",
    "    \"\"\""
   ]
  },
  {
   "cell_type": "markdown",
   "metadata": {},
   "source": [
    "JSON 이외의 형식으로 직렬화된 데이터의 유효성을 검사하려면 데이터를 직접 사전에 로드한 다음 `model_validate` 에 전달해야 합니다.\n",
    "\n",
    "> [!NOTE]\n",
    "> 관련된 유형 및 모델 구성에 따라 `model_validate` 및 `model_validate_json` 의 유효성 검사 동작이 다를 수 있습니다.\n",
    "> JSON 이 아닌 소스에서 오는 데이터가 있지만 `model_validate_json` 에서 얻을 수 있는 것과 동일한 유효성 검사 동작 및 오류를 원하는 경우 현재로서는 `model_validate_json(json.dumps(data))`을 사용하거나 다음과 같은 경우 `model_validate_strings`를 사용하는 것이 좋습니다.\n",
    "> 데이터는 문자열 키와 값이 포함된 (중첩될 수 있는) 사전의 형태를 취합니다.\n",
    "\n",
    "> [!NOTE]\n",
    "> 모델 인스턴스를 `model_validate`에 전달하는 경우 모델 구성에서 `revalidate_instances` 설정을 고려하는 것이 좋습니다.\n",
    "> 이 값을 설정하지 않으면 모델 인스턴스에서 유효성 검사를 건너뜁니다. 아래 예를 참조하세요.\n"
   ]
  },
  {
   "cell_type": "markdown",
   "metadata": {},
   "source": [
    "`revalidate_instances=\"never\"`:\n"
   ]
  },
  {
   "cell_type": "code",
   "execution_count": 4,
   "metadata": {},
   "outputs": [],
   "source": [
    "from pydantic import BaseModel\n",
    "\n",
    "\n",
    "class Model(BaseModel):\n",
    "    a: int\n",
    "\n",
    "\n",
    "m = Model(a=0)\n",
    "# note: setting `validate_assignment` to `True` in the config can prevent this kind of misbehavior.\n",
    "m.a = \"not an int\"\n",
    "\n",
    "# doesn't raise a validation error even though m is invalid\n",
    "m2 = Model.model_validate(m)"
   ]
  },
  {
   "cell_type": "markdown",
   "metadata": {},
   "source": [
    "`revalidate_instances=\"always\"`:\n"
   ]
  },
  {
   "cell_type": "code",
   "execution_count": 3,
   "metadata": {},
   "outputs": [
    {
     "name": "stdout",
     "output_type": "stream",
     "text": [
      "1 validation error for Model\n",
      "a\n",
      "  Input should be a valid integer, unable to parse string as an integer [type=int_parsing, input_value='not an int', input_type=str]\n",
      "    For further information visit https://errors.pydantic.dev/2.8/v/int_parsing\n"
     ]
    }
   ],
   "source": [
    "from pydantic import BaseModel, ConfigDict, ValidationError\n",
    "\n",
    "\n",
    "class Model(BaseModel):\n",
    "    a: int\n",
    "\n",
    "    model_config = ConfigDict(revalidate_instances=\"always\")\n",
    "\n",
    "\n",
    "m = Model(a=0)\n",
    "# note: setting `validate_assignment` to `True` in the config can prevent this kind of misbehavior.\n",
    "m.a = \"not an int\"\n",
    "\n",
    "try:\n",
    "    m2 = Model.model_validate(m)\n",
    "except ValidationError as e:\n",
    "    print(e)\n",
    "    \"\"\"\n",
    "    1 validation error for Model\n",
    "    a\n",
    "      Input should be a valid integer, unable to parse string as an integer [type=int_parsing, input_value='not an int', input_type=str]\n",
    "    \"\"\""
   ]
  },
  {
   "cell_type": "markdown",
   "metadata": {},
   "source": [
    "### Creating models without validation\n",
    "\n",
    "Pydantic 은 검증 없이 모델을 생성할 수 있는 `model_construct()` 메서드도 제공합니다.  \n",
    "이는 최소한 몇 가지 경우에 유용할 수 있습니다:\n",
    "\n",
    "- 이미 유효한 것으로 알려진 복잡한 데이터로 작업할 때 (성능상의 이유로).\n",
    "- 하나 이상의 유효성 검사기 함수가 멱등성이 아닌 경우.\n",
    "- 하나 이상의 유효성 검사기 기능에 트리거되고 싶지 않은 부작용이 있는 경우.\n",
    "\n",
    "> [!WARN] > `model_construct()` 는 유효성 검사를 수행하지 않습니다.\n",
    "> 이는 유효하지 않은 모델을 생성할 수 있음을 의미합니다.\n",
    "> 이미 검증되었거나 확실히 신뢰할 수 있는 데이터에만 `model_construct()` 메서드를 사용해야 합니다.\n",
    "\n",
    "> [!NOTE]\n",
    "> Pydantic V2에서는 검증(직접 인스턴스화 또는 `model_validate*` 메소드 사용)과 `model_construct()` 사이의 성능 격차가 상당히 줄어들었습니다.\n",
    "> 단순한 모델의 경우 검증을 수행하는 것이 더 빠를 수 있습니다.\n",
    "> 성능상의 이유로 `model_construct()`를 사용하는 경우, 실제로 더 빠르다고 가정하기 전에 사용 사례를 프로파일링할 수 있습니다.\n",
    "\n",
    "자세한 내용은 [이 곳](https://docs.pydantic.dev/latest/concepts/models/#validating-data)을 참조바랍니다.\n"
   ]
  },
  {
   "cell_type": "markdown",
   "metadata": {},
   "source": [
    "## Generic models\n",
    "\n",
    "Pass.\n"
   ]
  },
  {
   "cell_type": "markdown",
   "metadata": {},
   "source": [
    "## Dynamic model creation\n",
    "\n",
    "Pass.\n"
   ]
  },
  {
   "cell_type": "markdown",
   "metadata": {},
   "source": [
    "## RootModel and custom root types\n",
    "\n",
    "Pass.\n"
   ]
  },
  {
   "cell_type": "markdown",
   "metadata": {},
   "source": [
    "## Faux immutability\n",
    "\n",
    "Pass.\n"
   ]
  },
  {
   "cell_type": "markdown",
   "metadata": {},
   "source": [
    "## Abstract base classes\n"
   ]
  },
  {
   "cell_type": "code",
   "execution_count": null,
   "metadata": {},
   "outputs": [],
   "source": [
    "import abc\n",
    "\n",
    "from pydantic import BaseModel\n",
    "\n",
    "\n",
    "class FooBarModel(BaseModel, abc.ABC):\n",
    "    a: str\n",
    "    b: int\n",
    "\n",
    "    @abc.abstractmethod\n",
    "    def my_abstract_method(self):\n",
    "        pass"
   ]
  },
  {
   "cell_type": "markdown",
   "metadata": {},
   "source": [
    "## Field ordering\n",
    "\n",
    "Read.\n"
   ]
  },
  {
   "cell_type": "markdown",
   "metadata": {},
   "source": [
    "## Required fields\n"
   ]
  },
  {
   "cell_type": "code",
   "execution_count": null,
   "metadata": {},
   "outputs": [],
   "source": [
    "from pydantic import BaseModel, Field\n",
    "\n",
    "\n",
    "class Model(BaseModel):\n",
    "    a: int\n",
    "    b: int = ...  # NOTE: Not supported mypy.\n",
    "    c: int = Field(..., alias=\"C\")\n",
    "\n",
    "\n",
    "model = Model.model_validate(dict(a=1, b=2, C=3))\n",
    "print(model)\n",
    "print(model.model_dump())\n",
    "print(model.model_dump(by_alias=True))"
   ]
  },
  {
   "cell_type": "markdown",
   "metadata": {},
   "source": [
    "```py\n",
    "a=1 b=2 c=3\n",
    "{'a': 1, 'b': 2, 'c': 3}\n",
    "{'a': 1, 'b': 2, 'C': 3}\n",
    "```\n"
   ]
  },
  {
   "cell_type": "markdown",
   "metadata": {},
   "source": [
    "## Fields with non-hashable default values\n"
   ]
  },
  {
   "cell_type": "code",
   "execution_count": null,
   "metadata": {},
   "outputs": [],
   "source": [
    "from typing import Dict, List\n",
    "\n",
    "from pydantic import BaseModel\n",
    "\n",
    "\n",
    "class Model(BaseModel):\n",
    "    item_counts: List[Dict[str, int]] = [{}]\n",
    "\n",
    "\n",
    "m1 = Model()\n",
    "m1.item_counts[0][\"a\"] = 1\n",
    "print(m1.item_counts)\n",
    "m2 = Model()\n",
    "print(m2.item_counts)"
   ]
  },
  {
   "cell_type": "markdown",
   "metadata": {},
   "source": [
    "```py\n",
    "[{'a': 1}]\n",
    "[{}]\n",
    "```\n"
   ]
  },
  {
   "cell_type": "markdown",
   "metadata": {},
   "source": [
    "## Fields with dynamic default values\n",
    "\n",
    "`pydantic.Field.default_factory` 사용하기\n"
   ]
  },
  {
   "cell_type": "code",
   "execution_count": null,
   "metadata": {},
   "outputs": [],
   "source": [
    "from datetime import datetime, timezone\n",
    "from uuid import UUID, uuid4\n",
    "\n",
    "from pydantic import BaseModel, Field\n",
    "\n",
    "\n",
    "def datetime_now() -> datetime:\n",
    "    return datetime.now(timezone.utc)\n",
    "\n",
    "\n",
    "class Model(BaseModel):\n",
    "    uid: UUID = Field(default_factory=uuid4)\n",
    "    updated: datetime = Field(default_factory=datetime_now)\n",
    "\n",
    "\n",
    "m1 = Model()\n",
    "m2 = Model()\n",
    "assert m1.uid != m2.uid"
   ]
  },
  {
   "cell_type": "markdown",
   "metadata": {},
   "source": [
    "자세한 내용은 [`Field` function](https://docs.pydantic.dev/latest/concepts/fields/) 참조하기.\n"
   ]
  },
  {
   "cell_type": "markdown",
   "metadata": {},
   "source": [
    "## Automatically excluded attributes\n",
    "\n",
    "### Class vars\n",
    "\n",
    "`typing.ClassVar` 사용 시, 처리는 하지만 들어나지 않는다.\n"
   ]
  },
  {
   "cell_type": "code",
   "execution_count": null,
   "metadata": {},
   "outputs": [],
   "source": [
    "from typing import ClassVar\n",
    "\n",
    "from pydantic import BaseModel\n",
    "\n",
    "\n",
    "class Model(BaseModel):\n",
    "    x: int = 2\n",
    "    y: ClassVar[int] = 1\n",
    "\n",
    "\n",
    "m = Model()\n",
    "print(m)\n",
    "print(Model.y)\n",
    "print(m.model_dump())"
   ]
  },
  {
   "cell_type": "markdown",
   "metadata": {},
   "source": [
    "```py\n",
    "x=2\n",
    "1\n",
    "```\n"
   ]
  },
  {
   "cell_type": "markdown",
   "metadata": {},
   "source": [
    "### Private model attributes\n",
    "\n",
    "- 속성은 `undercore` 를 명은 앞에 사용하여 정의하기.\n",
    "- 속성은 `pydantic.PrivateAttr` 를 사용하여 정의하기.\n",
    "- 속성은 `__init__`, `model_validate` 안에 정의하지 않는 경우, 다른 속성과 함께 사용되지 않는다.\n",
    "- `__attr__` 과 같음 이름은 지원하지 않는다.\n"
   ]
  },
  {
   "cell_type": "code",
   "execution_count": null,
   "metadata": {},
   "outputs": [],
   "source": [
    "from datetime import datetime\n",
    "from random import randint\n",
    "\n",
    "from pydantic import BaseModel, PrivateAttr\n",
    "\n",
    "\n",
    "class TimeAwareModel(BaseModel):\n",
    "    _processed_at: datetime = PrivateAttr(default_factory=datetime.now)\n",
    "    _secret_value: str\n",
    "\n",
    "    def __init__(self, **data):\n",
    "        super().__init__(**data)\n",
    "        # this could also be done with default_factory\n",
    "        self._secret_value = randint(1, 5)\n",
    "\n",
    "\n",
    "m = TimeAwareModel()\n",
    "print(\"m:\", m)\n",
    "print(\"m._processed_at:\", m._processed_at)\n",
    "print(\"m._secret_value:\", m._secret_value)\n",
    "print(\"m.model_validate({}):\", m.model_validate({}))"
   ]
  },
  {
   "cell_type": "markdown",
   "metadata": {},
   "source": [
    "```py\n",
    "m:\n",
    "m._processed_at: 2024-08-26 08:15:19.787157\n",
    "m._secret_value: 1\n",
    "m.model_validate({}):\n",
    "```\n"
   ]
  },
  {
   "cell_type": "markdown",
   "metadata": {},
   "source": [
    "## Data conversion\n",
    "\n",
    "데이터가 손실 될 수 있지만, 의도적인 것이다. 자세한 것 내용은 [이 곳](https://github.com/pydantic/pydantic/issues/578)을 참조하기.\n",
    "\n",
    "또는 [엄격한 모드](https://docs.pydantic.dev/latest/concepts/strict_mode/) 참조하기.\n"
   ]
  },
  {
   "cell_type": "code",
   "execution_count": null,
   "metadata": {},
   "outputs": [],
   "source": [
    "from pydantic import BaseModel\n",
    "\n",
    "\n",
    "class Model(BaseModel):\n",
    "    a: int\n",
    "    b: float\n",
    "    c: str\n",
    "\n",
    "\n",
    "print(Model(a=3.000, b=\"2.72\", c=b\"binary data\").model_dump())"
   ]
  },
  {
   "cell_type": "markdown",
   "metadata": {},
   "source": [
    "```py\n",
    "{'a': 3, 'b': 2.72, 'c': 'binary data'}\n",
    "```\n"
   ]
  },
  {
   "cell_type": "markdown",
   "metadata": {},
   "source": [
    "## Model signature\n"
   ]
  },
  {
   "cell_type": "code",
   "execution_count": null,
   "metadata": {},
   "outputs": [],
   "source": [
    "import inspect\n",
    "\n",
    "from pydantic import BaseModel, Field\n",
    "\n",
    "\n",
    "class FooModel(BaseModel):\n",
    "    id: int\n",
    "    name: str = None\n",
    "    description: str = \"Foo\"\n",
    "    apple: int = Field(alias=\"pear\")\n",
    "\n",
    "\n",
    "print(inspect.signature(FooModel))"
   ]
  },
  {
   "cell_type": "markdown",
   "metadata": {},
   "source": [
    "```py\n",
    "(*, id: int, name: str = None, description: str = 'Foo', pear: int) -> None\n",
    "```\n"
   ]
  },
  {
   "cell_type": "markdown",
   "metadata": {},
   "source": [
    "`__init__` 도 존중한다:\n"
   ]
  },
  {
   "cell_type": "code",
   "execution_count": null,
   "metadata": {},
   "outputs": [],
   "source": [
    "import inspect\n",
    "\n",
    "from pydantic import BaseModel, create_model\n",
    "\n",
    "\n",
    "class MyModel(BaseModel):\n",
    "    id: int\n",
    "    info: str = \"Foo\"\n",
    "\n",
    "    def __init__(self, id: int = 1, *, bar: str, **data) -> None:\n",
    "        \"\"\"My custom init!\"\"\"\n",
    "        super().__init__(id=id, bar=bar, **data)\n",
    "\n",
    "\n",
    "print(inspect.signature(MyModel))"
   ]
  },
  {
   "cell_type": "markdown",
   "metadata": {},
   "source": [
    "```py\n",
    "(id: int = 1, *, bar: str, info: str = 'Foo') -> None\n",
    "```\n"
   ]
  },
  {
   "cell_type": "markdown",
   "metadata": {},
   "source": [
    "필드의 별칭과 이름이 모두 유효한 식별자가 아닌 경우(`create_model` 의 이국적인 사용을 통해 가능할 수 있음) `**data` 인수가 추가됩니다.\n",
    "또한, `model_config['extra'] == 'allow'`인 경우 `**data` 인수는 서명에 항상 존재합니다.\n"
   ]
  },
  {
   "cell_type": "code",
   "execution_count": null,
   "metadata": {},
   "outputs": [],
   "source": [
    "import inspect\n",
    "\n",
    "from pydantic import BaseModel, ConfigDict, create_model\n",
    "\n",
    "\n",
    "class MyModel(BaseModel):\n",
    "    id: int\n",
    "    info: str = \"Foo\"\n",
    "\n",
    "    # NOTE: Allow extra for model config.\n",
    "    model_config = ConfigDict(extra=\"allow\")\n",
    "\n",
    "    def __init__(self, id: int = 1, *, bar: str, **data) -> None:\n",
    "        \"\"\"My custom init!\"\"\"\n",
    "        super().__init__(id=id, bar=bar, **data)\n",
    "\n",
    "\n",
    "print(inspect.signature(MyModel))\n",
    "print(MyModel(id=1, info=\"foo\", **{\"bar\": \"bar\"}))\n",
    "DymaicModel = create_model(\n",
    "    \"You\",\n",
    "    id=(int, 1),\n",
    "    bar=(str, ...),\n",
    "    info=(str, \"Foo\"),\n",
    "    __config__=ConfigDict(extra=\"allow\"),\n",
    ")\n",
    "print(inspect.signature(DymaicModel))\n",
    "print(DymaicModel(id=1, info=\"foo\", **{\"bar\": \"bar\"}))"
   ]
  },
  {
   "cell_type": "markdown",
   "metadata": {},
   "source": [
    "```py\n",
    "(id: int = 1, *, bar: str, info: str = 'Foo', **data) -> None\n",
    "id=1 info='foo' bar='bar'\n",
    "(*, id: int = 1, bar: str, info: str = 'Foo', **extra_data: Any) -> None\n",
    "id=1 bar='bar' info='foo'\n",
    "```\n"
   ]
  },
  {
   "cell_type": "markdown",
   "metadata": {},
   "source": [
    "## Structural pattern matching\n"
   ]
  },
  {
   "cell_type": "code",
   "execution_count": null,
   "metadata": {},
   "outputs": [],
   "source": [
    "from pydantic import BaseModel\n",
    "\n",
    "\n",
    "class Pet(BaseModel):\n",
    "    name: str\n",
    "    species: str\n",
    "\n",
    "\n",
    "a = Pet(name=\"Bones\", species=\"dog\")\n",
    "\n",
    "match a:\n",
    "    # match `species` to 'dog', declare and initialize `dog_name`\n",
    "    case Pet(species=\"dog\", name=dog_name):\n",
    "        print(f\"{dog_name} is a dog\")\n",
    "    # > Bones is a dog\n",
    "    # default case\n",
    "    case _:\n",
    "        print(\"No dog matched\")"
   ]
  },
  {
   "cell_type": "markdown",
   "metadata": {},
   "source": [
    "## Attribute copies\n"
   ]
  },
  {
   "cell_type": "code",
   "execution_count": null,
   "metadata": {},
   "outputs": [],
   "source": [
    "from typing import List\n",
    "\n",
    "from pydantic import BaseModel\n",
    "\n",
    "\n",
    "class C1:\n",
    "    arr = []\n",
    "\n",
    "    def __init__(self, in_arr):\n",
    "        self.arr = in_arr\n",
    "\n",
    "\n",
    "class C2(BaseModel):\n",
    "    arr: List[int]\n",
    "\n",
    "\n",
    "arr_orig = [1, 9, 10, 3]\n",
    "\n",
    "\n",
    "c1 = C1(arr_orig)\n",
    "c2 = C2(arr=arr_orig)\n",
    "assert id(c1.arr) != id(c2.arr)\n",
    "arr_orig.append(0)\n",
    "assert c1.arr[-1] == 0\n",
    "assert c2.arr[-1] == 3"
   ]
  },
  {
   "cell_type": "markdown",
   "metadata": {},
   "source": [
    "## Extra fields\n",
    "\n",
    "정의 되지 않은 속성에 값 추가 시, 일반적으로 무시 된다:\n"
   ]
  },
  {
   "cell_type": "code",
   "execution_count": null,
   "metadata": {},
   "outputs": [],
   "source": [
    "from pydantic import BaseModel\n",
    "\n",
    "\n",
    "class Model(BaseModel):\n",
    "    x: int\n",
    "\n",
    "\n",
    "m = Model(x=1, y=\"a\")\n",
    "assert m.model_dump() == {\"x\": 1}"
   ]
  },
  {
   "cell_type": "markdown",
   "metadata": {},
   "source": [
    "만약 정의 되지 않은 속성에 값을 추가 시 오류를 발생하려면, `pydantic.ConfigDict` 에 `extra=\"forbid\"` 사용한다:\n"
   ]
  },
  {
   "cell_type": "code",
   "execution_count": null,
   "metadata": {},
   "outputs": [],
   "source": [
    "from pydantic import BaseModel, ConfigDict, ValidationError\n",
    "\n",
    "\n",
    "class Model(BaseModel):\n",
    "    x: int\n",
    "\n",
    "    model_config = ConfigDict(extra=\"forbid\")\n",
    "\n",
    "\n",
    "try:\n",
    "    Model(x=1, y=\"a\")\n",
    "except ValidationError as exc:\n",
    "    print(exc)"
   ]
  },
  {
   "cell_type": "markdown",
   "metadata": {},
   "source": [
    "```py\n",
    "1 validation error for Model\n",
    "y\n",
    "  Extra inputs are not permitted [type=extra_forbidden, input_value='a', input_type=str]\n",
    "    For further information visit https://errors.pydantic.dev/2.8/v/extra_forbidden\n",
    "\n",
    "```\n"
   ]
  },
  {
   "cell_type": "markdown",
   "metadata": {},
   "source": [
    "`pydantic.ConfigDict` 에 `extra=\"allow\"` 사용 시, `__pydantic_extra__` 저장 된다:\n"
   ]
  },
  {
   "cell_type": "code",
   "execution_count": null,
   "metadata": {},
   "outputs": [],
   "source": [
    "from pydantic import BaseModel, ConfigDict\n",
    "\n",
    "\n",
    "class Model(BaseModel):\n",
    "    x: int\n",
    "\n",
    "    model_config = ConfigDict(extra=\"allow\")\n",
    "\n",
    "\n",
    "m = Model(x=1, y=\"a\")\n",
    "assert m.__pydantic_extra__ == {\"y\": \"a\"}"
   ]
  },
  {
   "cell_type": "markdown",
   "metadata": {},
   "source": [
    "기본적으로 이러한 추가 항목에는 유효성 검사가 적용되지 않는다.  \n",
    "그러나 `__pydantic_extra__` 에 대한 유형 주석을 재정의하여 값에 대한 유형을 설정할 수 있습니다:\n"
   ]
  },
  {
   "cell_type": "code",
   "execution_count": null,
   "metadata": {},
   "outputs": [],
   "source": [
    "from typing import Dict\n",
    "\n",
    "from pydantic import BaseModel, ConfigDict, Field, ValidationError\n",
    "\n",
    "\n",
    "class Model(BaseModel):\n",
    "    __pydantic_extra__: Dict[str, int] = Field(init=False)\n",
    "\n",
    "    x: int\n",
    "\n",
    "    model_config = ConfigDict(extra=\"allow\")\n",
    "\n",
    "\n",
    "try:\n",
    "    Model(x=1, y=\"a\")\n",
    "except ValidationError as exc:\n",
    "    print(exc)\n",
    "\n",
    "m = Model(x=1, y=\"2\")\n",
    "assert m.x == 1\n",
    "assert m.y == 2\n",
    "assert m.model_dump() == {\"x\": 1, \"y\": 2}\n",
    "assert m.__pydantic_extra__ == {\"y\": 2}"
   ]
  },
  {
   "cell_type": "markdown",
   "metadata": {},
   "source": [
    "```py\n",
    "1 validation error for Model\n",
    "y\n",
    "  Input should be a valid integer, unable to parse string as an integer [type=int_parsing, input_value='a', input_type=str]\n",
    "    For further information visit https://errors.pydantic.dev/2.8/v/int_parsing\n",
    "\n",
    "```\n",
    "\n",
    "`TypedDict` 및 `dataclass` 에는 동일한 구성이 적용됩니다.  \n",
    "단, 구성은 클래스의 `__pydantic_config__` 속성을 유효한 `ConfigDict` 로 설정하여 제어됩니다.\n"
   ]
  }
 ],
 "metadata": {
  "kernelspec": {
   "display_name": ".venv",
   "language": "python",
   "name": "python3"
  },
  "language_info": {
   "codemirror_mode": {
    "name": "ipython",
    "version": 3
   },
   "file_extension": ".py",
   "mimetype": "text/x-python",
   "name": "python",
   "nbconvert_exporter": "python",
   "pygments_lexer": "ipython3",
   "version": "3.12.5"
  }
 },
 "nbformat": 4,
 "nbformat_minor": 2
}
